{
 "cells": [
  {
   "cell_type": "markdown",
   "metadata": {},
   "source": [
    "## Problem Description\n",
    "\n",
    "In this report, I would like to address the question of where to open a new cafe in Cambridge, UK. The potential stakeholders are the people who are interested in opening a new cafe business in the Cambridge area. The general rationale behind this analysis is to balance an exploration and exploitation of different areas. \n",
    "\n",
    "An area with a relatively small number of cafes means less competition, but it also might mean that there aren't many potential customers. An area with a large number of cafes could mean that it maybe near a tourist attraction, thus plenty of potential customers. However, it would also mean that it is fairly competitive. \n",
    "\n",
    "We will aim to address this problem along these two directions."
   ]
  },
  {
   "cell_type": "markdown",
   "metadata": {},
   "source": [
    "## Data Description\n",
    "\n",
    "The data that I will be using are obtained using the Foursquare API, which contains the location information of different cafes in Cambridge, UK.\n",
    "\n",
    "Below are my code for obtaining the data, and an initial exploratory analysis."
   ]
  },
  {
   "cell_type": "code",
   "execution_count": 1,
   "metadata": {},
   "outputs": [
    {
     "name": "stdout",
     "output_type": "stream",
     "text": [
      "Collecting package metadata (current_repodata.json): done\n",
      "Solving environment: failed with initial frozen solve. Retrying with flexible solve.\n",
      "Collecting package metadata (repodata.json): done\n",
      "Solving environment: done\n",
      "\n",
      "\n",
      "==> WARNING: A newer version of conda exists. <==\n",
      "  current version: 4.8.3\n",
      "  latest version: 4.8.4\n",
      "\n",
      "Please update conda by running\n",
      "\n",
      "    $ conda update -n base -c defaults conda\n",
      "\n",
      "\n",
      "\n",
      "## Package Plan ##\n",
      "\n",
      "  environment location: /home/hankui/anaconda3\n",
      "\n",
      "  added / updated specs:\n",
      "    - folium=0.5.0\n",
      "\n",
      "\n",
      "The following packages will be downloaded:\n",
      "\n",
      "    package                    |            build\n",
      "    ---------------------------|-----------------\n",
      "    altair-4.1.0               |             py_1         614 KB  conda-forge\n",
      "    branca-0.4.1               |             py_0          26 KB  conda-forge\n",
      "    certifi-2019.9.11          |           py37_0         147 KB  conda-forge\n",
      "    conda-4.8.4                |   py37hc8dfbb8_2         3.1 MB  conda-forge\n",
      "    folium-0.5.0               |             py_0          45 KB  conda-forge\n",
      "    python_abi-3.7             |          1_cp37m           4 KB  conda-forge\n",
      "    vincent-0.4.4              |             py_1          28 KB  conda-forge\n",
      "    ------------------------------------------------------------\n",
      "                                           Total:         3.9 MB\n",
      "\n",
      "The following NEW packages will be INSTALLED:\n",
      "\n",
      "  altair             conda-forge/noarch::altair-4.1.0-py_1\n",
      "  branca             conda-forge/noarch::branca-0.4.1-py_0\n",
      "  folium             conda-forge/noarch::folium-0.5.0-py_0\n",
      "  python_abi         conda-forge/linux-64::python_abi-3.7-1_cp37m\n",
      "  vincent            conda-forge/noarch::vincent-0.4.4-py_1\n",
      "\n",
      "The following packages will be UPDATED:\n",
      "\n",
      "  conda                       pkgs/main::conda-4.8.3-py37_0 --> conda-forge::conda-4.8.4-py37hc8dfbb8_2\n",
      "\n",
      "The following packages will be SUPERSEDED by a higher-priority channel:\n",
      "\n",
      "  certifi                                         pkgs/main --> conda-forge\n",
      "\n",
      "\n",
      "\n",
      "Downloading and Extracting Packages\n",
      "branca-0.4.1         | 26 KB     | ##################################### | 100% \n",
      "conda-4.8.4          | 3.1 MB    | ##################################### | 100% \n",
      "vincent-0.4.4        | 28 KB     | ##################################### | 100% \n",
      "certifi-2019.9.11    | 147 KB    | ##################################### | 100% \n",
      "altair-4.1.0         | 614 KB    | ##################################### | 100% \n",
      "folium-0.5.0         | 45 KB     | ##################################### | 100% \n",
      "python_abi-3.7       | 4 KB      | ##################################### | 100% \n",
      "Preparing transaction: done\n",
      "Verifying transaction: done\n",
      "Executing transaction: done\n"
     ]
    }
   ],
   "source": [
    "!conda install -c conda-forge folium=0.5.0 --yes"
   ]
  },
  {
   "cell_type": "code",
   "execution_count": 3,
   "metadata": {},
   "outputs": [],
   "source": [
    "# import necessary libraries\n",
    "import folium # plotting library\n",
    "import pandas as pd # library for data analsysis\n",
    "import numpy as np # library to handle data in a vectorized manner"
   ]
  },
  {
   "cell_type": "code",
   "execution_count": 4,
   "metadata": {},
   "outputs": [
    {
     "name": "stdout",
     "output_type": "stream",
     "text": [
      "Your credentails:\n",
      "CLIENT_ID: BKNYVLZF5UBHV5JZDPLUTAZGFRMEJSUTWWA4JOQTUMOTCJCN\n",
      "CLIENT_SECRET:2LHOBXUKK5UMYTYLK0RYEQFIZKN5XD1BXWCCLHJIQY1IGGO0\n"
     ]
    }
   ],
   "source": [
    "# sensitive Foursquare log in info "
   ]
  },
  {
   "cell_type": "code",
   "execution_count": 5,
   "metadata": {},
   "outputs": [],
   "source": [
    "import requests\n",
    "\n",
    "request_parameters = {\n",
    "    \"client_id\": CLIENT_ID,\n",
    "    \"client_secret\": CLIENT_SECRET,\n",
    "    \"v\": VERSION,\n",
    "    \"section\": \"coffee\",\n",
    "    \"near\": \"Cambridge, UK\",\n",
    "    \"radius\": 1000,\n",
    "    \"limit\": 1000}\n",
    "\n",
    "data = requests.get(\"https://api.foursquare.com/v2/venues/explore\", params=request_parameters)"
   ]
  },
  {
   "cell_type": "code",
   "execution_count": 6,
   "metadata": {},
   "outputs": [
    {
     "data": {
      "text/plain": [
       "dict_keys(['suggestedFilters', 'geocode', 'headerLocation', 'headerFullLocation', 'headerLocationGranularity', 'query', 'totalResults', 'suggestedBounds', 'groups'])"
      ]
     },
     "execution_count": 6,
     "metadata": {},
     "output_type": "execute_result"
    }
   ],
   "source": [
    "d = data.json()[\"response\"]\n",
    "d.keys()"
   ]
  },
  {
   "cell_type": "code",
   "execution_count": 29,
   "metadata": {},
   "outputs": [
    {
     "name": "stdout",
     "output_type": "stream",
     "text": [
      "found 36 cafes\n"
     ]
    },
    {
     "data": {
      "text/html": [
       "<div>\n",
       "<style scoped>\n",
       "    .dataframe tbody tr th:only-of-type {\n",
       "        vertical-align: middle;\n",
       "    }\n",
       "\n",
       "    .dataframe tbody tr th {\n",
       "        vertical-align: top;\n",
       "    }\n",
       "\n",
       "    .dataframe thead th {\n",
       "        text-align: right;\n",
       "    }\n",
       "</style>\n",
       "<table border=\"1\" class=\"dataframe\">\n",
       "  <thead>\n",
       "    <tr style=\"text-align: right;\">\n",
       "      <th></th>\n",
       "      <th>uid</th>\n",
       "      <th>name</th>\n",
       "      <th>shortname</th>\n",
       "      <th>address</th>\n",
       "      <th>postalcode</th>\n",
       "      <th>lat</th>\n",
       "      <th>lng</th>\n",
       "    </tr>\n",
       "  </thead>\n",
       "  <tbody>\n",
       "    <tr>\n",
       "      <td>0</td>\n",
       "      <td>5499607c498e80876defe57d</td>\n",
       "      <td>Hot Numbers</td>\n",
       "      <td>Coffee Shop</td>\n",
       "      <td>4 Trumpington St</td>\n",
       "      <td>CB2 1QA</td>\n",
       "      <td>52.198515</td>\n",
       "      <td>0.121923</td>\n",
       "    </tr>\n",
       "    <tr>\n",
       "      <td>1</td>\n",
       "      <td>5184c967498e0b8ab6cae4ba</td>\n",
       "      <td>Aromi</td>\n",
       "      <td>Café</td>\n",
       "      <td>1 Bene’t Street</td>\n",
       "      <td>CB2 3QN</td>\n",
       "      <td>52.204278</td>\n",
       "      <td>0.118949</td>\n",
       "    </tr>\n",
       "    <tr>\n",
       "      <td>2</td>\n",
       "      <td>4c01057d19d8c928e2258829</td>\n",
       "      <td>Savino's</td>\n",
       "      <td>Café</td>\n",
       "      <td>3 Emmanuel St</td>\n",
       "      <td>CB1 1NE</td>\n",
       "      <td>52.204327</td>\n",
       "      <td>0.123427</td>\n",
       "    </tr>\n",
       "    <tr>\n",
       "      <td>3</td>\n",
       "      <td>4bb20522f964a52083b23ce3</td>\n",
       "      <td>Michaelhouse Café</td>\n",
       "      <td>Café</td>\n",
       "      <td>St Michael's Church</td>\n",
       "      <td>CB2 1SU</td>\n",
       "      <td>52.206008</td>\n",
       "      <td>0.118124</td>\n",
       "    </tr>\n",
       "    <tr>\n",
       "      <td>4</td>\n",
       "      <td>586a4fb4561ded113af769fd</td>\n",
       "      <td>Bould Brothers Coffee</td>\n",
       "      <td>Coffee Shop</td>\n",
       "      <td>16 Round Church St</td>\n",
       "      <td>CB5 8AD</td>\n",
       "      <td>52.208555</td>\n",
       "      <td>0.118677</td>\n",
       "    </tr>\n",
       "  </tbody>\n",
       "</table>\n",
       "</div>"
      ],
      "text/plain": [
       "                        uid                   name    shortname  \\\n",
       "0  5499607c498e80876defe57d            Hot Numbers  Coffee Shop   \n",
       "1  5184c967498e0b8ab6cae4ba                  Aromi         Café   \n",
       "2  4c01057d19d8c928e2258829               Savino's         Café   \n",
       "3  4bb20522f964a52083b23ce3      Michaelhouse Café         Café   \n",
       "4  586a4fb4561ded113af769fd  Bould Brothers Coffee  Coffee Shop   \n",
       "\n",
       "               address postalcode        lat       lng  \n",
       "0     4 Trumpington St    CB2 1QA  52.198515  0.121923  \n",
       "1      1 Bene’t Street    CB2 3QN  52.204278  0.118949  \n",
       "2        3 Emmanuel St    CB1 1NE  52.204327  0.123427  \n",
       "3  St Michael's Church    CB2 1SU  52.206008  0.118124  \n",
       "4   16 Round Church St    CB5 8AD  52.208555  0.118677  "
      ]
     },
     "execution_count": 29,
     "metadata": {},
     "output_type": "execute_result"
    }
   ],
   "source": [
    "items = d[\"groups\"][0][\"items\"]\n",
    "\n",
    "df_raw = []\n",
    "for item in items:\n",
    "    venue = item[\"venue\"]\n",
    "    categories, uid, name, location = venue[\"categories\"], venue[\"id\"], venue[\"name\"], venue[\"location\"]\n",
    "    assert len(categories) == 1\n",
    "    shortname = categories[0][\"shortName\"]\n",
    "    \n",
    "    if not \"address\" in location:\n",
    "        continue\n",
    "    address = location['address']\n",
    "    \n",
    "    if not \"postalCode\" in location:\n",
    "        continue\n",
    "    postalcode = location[\"postalCode\"]\n",
    "    lat = location[\"lat\"]\n",
    "    lng = location[\"lng\"]\n",
    "    \n",
    "    datarow = (uid, name, shortname, address, postalcode, lat, lng)\n",
    "    df_raw.append(datarow)\n",
    "\n",
    "df = pd.DataFrame(df_raw, columns=[\"uid\", \"name\", \"shortname\", \"address\", \"postalcode\", \"lat\", \"lng\"])\n",
    "print(\"found %i cafes\" % len(df))\n",
    "df.head()"
   ]
  },
  {
   "cell_type": "code",
   "execution_count": 30,
   "metadata": {},
   "outputs": [
    {
     "data": {
      "text/plain": [
       "{'what': '',\n",
       " 'where': 'cambridge uk',\n",
       " 'center': {'lat': 52.2, 'lng': 0.11667},\n",
       " 'displayString': 'Cambridge, Cambridgeshire, United Kingdom',\n",
       " 'cc': 'GB',\n",
       " 'geometry': {'bounds': {'ne': {'lat': 52.23097999999993,\n",
       "    'lng': 0.17491199999983564},\n",
       "   'sw': {'lat': 52.17158499999988, 'lng': 0.09852149999989024}}},\n",
       " 'slug': 'cambridge-united-kingdom',\n",
       " 'longId': '72057594040581877'}"
      ]
     },
     "execution_count": 30,
     "metadata": {},
     "output_type": "execute_result"
    }
   ],
   "source": [
    "d[\"geocode\"]"
   ]
  },
  {
   "cell_type": "code",
   "execution_count": 38,
   "metadata": {},
   "outputs": [
    {
     "name": "stderr",
     "output_type": "stream",
     "text": [
      "/home/hankui/anaconda3/lib/python3.7/site-packages/ipykernel_launcher.py:22: FutureWarning: Method .as_matrix will be removed in a future version. Use .values instead.\n"
     ]
    },
    {
     "data": {
      "text/html": [
       "<div style=\"width:100%;\"><div style=\"position:relative;width:100%;height:0;padding-bottom:60%;\"><span style=\"color:#565656\">Make this Notebook Trusted to load map: File -> Trust Notebook</span><iframe src=\"about:blank\" style=\"position:absolute;width:100%;height:100%;left:0;top:0;border:none !important;\" data-html=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 onload=\"this.contentDocument.open();this.contentDocument.write(atob(this.getAttribute('data-html')));this.contentDocument.close();\" allowfullscreen webkitallowfullscreen mozallowfullscreen></iframe></div></div>"
      ],
      "text/plain": [
       "<folium.folium.Map at 0x7ff3fe462910>"
      ]
     },
     "execution_count": 38,
     "metadata": {},
     "output_type": "execute_result"
    }
   ],
   "source": [
    "cambridge_centre = d[\"geocode\"][\"center\"]\n",
    "\n",
    "from folium import plugins\n",
    "\n",
    "# create map of Cambridge using latitude and longitude values\n",
    "cambridge_map = folium.Map(location = [cambridge_centre[\"lat\"], cambridge_centre[\"lng\"]], zoom_start = 15)\n",
    "\n",
    "def add_markers(df):\n",
    "    for (j, row) in df.iterrows():\n",
    "        label = folium.Popup(row[\"name\"], parse_html = True)\n",
    "        folium.CircleMarker(\n",
    "            [row[\"lat\"], row[\"lng\"]],\n",
    "            radius = 6,\n",
    "            popup = label,\n",
    "            color = 'blue',\n",
    "            fill = True,\n",
    "            fill_color = '#3186cc',\n",
    "            fill_opacity = 0.7,\n",
    "            parse_html = False).add_to(cambridge_map)\n",
    "\n",
    "add_markers(df)\n",
    "hm_data = df[[\"lat\", \"lng\"]].as_matrix().tolist()\n",
    "cambridge_map.add_child(plugins.HeatMap(hm_data))\n",
    "\n",
    "cambridge_map"
   ]
  }
 ],
 "metadata": {
  "kernelspec": {
   "display_name": "Python 3",
   "language": "python",
   "name": "python3"
  },
  "language_info": {
   "codemirror_mode": {
    "name": "ipython",
    "version": 3
   },
   "file_extension": ".py",
   "mimetype": "text/x-python",
   "name": "python",
   "nbconvert_exporter": "python",
   "pygments_lexer": "ipython3",
   "version": "3.7.4"
  }
 },
 "nbformat": 4,
 "nbformat_minor": 2
}
